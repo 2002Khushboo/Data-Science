{
  "cells": [
    {
      "cell_type": "code",
      "execution_count": null,
      "metadata": {
        "id": "jtOKKQgKkgo8"
      },
      "outputs": [],
      "source": [
        "# Importing the neccessary libraries\n",
        "\n",
        "import pandas as pd\n",
        "import numpy as np\n",
        "import matplotlib.pyplot as plt\n",
        "import seaborn as sns\n",
        "import warnings\n",
        "warnings.filterwarnings('ignore')"
      ]
    },
    {
      "cell_type": "code",
      "execution_count": null,
      "metadata": {
        "id": "tUQBi6SYlGEk"
      },
      "outputs": [],
      "source": [
        "# Reading the data set provided\n",
        "\n",
        "train_df = pd.read_csv('train.csv')"
      ]
    },
    {
      "cell_type": "code",
      "execution_count": null,
      "metadata": {
        "id": "jCa4lZIvlg2f"
      },
      "outputs": [],
      "source": [
        "# Making a copy of the dataset so as to avoid changes/errors in actual dataset\n",
        "\n",
        "df=train_df.copy()"
      ]
    },
    {
      "cell_type": "code",
      "execution_count": null,
      "metadata": {
        "colab": {
          "base_uri": "https://localhost:8080/",
          "height": 522
        },
        "id": "i7UvIiH7VBxP",
        "outputId": "4a48fdbf-a51f-4336-d59e-b23ae864c7dd"
      },
      "outputs": [
        {
          "data": {
            "text/html": [
              "<div>\n",
              "<style scoped>\n",
              "    .dataframe tbody tr th:only-of-type {\n",
              "        vertical-align: middle;\n",
              "    }\n",
              "\n",
              "    .dataframe tbody tr th {\n",
              "        vertical-align: top;\n",
              "    }\n",
              "\n",
              "    .dataframe thead th {\n",
              "        text-align: right;\n",
              "    }\n",
              "</style>\n",
              "<table border=\"1\" class=\"dataframe\">\n",
              "  <thead>\n",
              "    <tr style=\"text-align: right;\">\n",
              "      <th></th>\n",
              "      <th>Loan_ID</th>\n",
              "      <th>Gender</th>\n",
              "      <th>Married</th>\n",
              "      <th>Dependents</th>\n",
              "      <th>Education</th>\n",
              "      <th>Self_Employed</th>\n",
              "      <th>ApplicantIncome</th>\n",
              "      <th>CoapplicantIncome</th>\n",
              "      <th>LoanAmount</th>\n",
              "      <th>Loan_Amount_Term</th>\n",
              "      <th>Credit_History</th>\n",
              "      <th>Property_Area</th>\n",
              "      <th>Loan_Status</th>\n",
              "    </tr>\n",
              "  </thead>\n",
              "  <tbody>\n",
              "    <tr>\n",
              "      <th>0</th>\n",
              "      <td>LP001002</td>\n",
              "      <td>Male</td>\n",
              "      <td>No</td>\n",
              "      <td>0</td>\n",
              "      <td>Graduate</td>\n",
              "      <td>No</td>\n",
              "      <td>5849</td>\n",
              "      <td>0.0</td>\n",
              "      <td>NaN</td>\n",
              "      <td>360.0</td>\n",
              "      <td>1.0</td>\n",
              "      <td>Urban</td>\n",
              "      <td>Y</td>\n",
              "    </tr>\n",
              "    <tr>\n",
              "      <th>1</th>\n",
              "      <td>LP001003</td>\n",
              "      <td>Male</td>\n",
              "      <td>Yes</td>\n",
              "      <td>1</td>\n",
              "      <td>Graduate</td>\n",
              "      <td>No</td>\n",
              "      <td>4583</td>\n",
              "      <td>1508.0</td>\n",
              "      <td>128.0</td>\n",
              "      <td>360.0</td>\n",
              "      <td>1.0</td>\n",
              "      <td>Rural</td>\n",
              "      <td>N</td>\n",
              "    </tr>\n",
              "    <tr>\n",
              "      <th>2</th>\n",
              "      <td>LP001005</td>\n",
              "      <td>Male</td>\n",
              "      <td>Yes</td>\n",
              "      <td>0</td>\n",
              "      <td>Graduate</td>\n",
              "      <td>Yes</td>\n",
              "      <td>3000</td>\n",
              "      <td>0.0</td>\n",
              "      <td>66.0</td>\n",
              "      <td>360.0</td>\n",
              "      <td>1.0</td>\n",
              "      <td>Urban</td>\n",
              "      <td>Y</td>\n",
              "    </tr>\n",
              "    <tr>\n",
              "      <th>3</th>\n",
              "      <td>LP001006</td>\n",
              "      <td>Male</td>\n",
              "      <td>Yes</td>\n",
              "      <td>0</td>\n",
              "      <td>Not Graduate</td>\n",
              "      <td>No</td>\n",
              "      <td>2583</td>\n",
              "      <td>2358.0</td>\n",
              "      <td>120.0</td>\n",
              "      <td>360.0</td>\n",
              "      <td>1.0</td>\n",
              "      <td>Urban</td>\n",
              "      <td>Y</td>\n",
              "    </tr>\n",
              "    <tr>\n",
              "      <th>4</th>\n",
              "      <td>LP001008</td>\n",
              "      <td>Male</td>\n",
              "      <td>No</td>\n",
              "      <td>0</td>\n",
              "      <td>Graduate</td>\n",
              "      <td>No</td>\n",
              "      <td>6000</td>\n",
              "      <td>0.0</td>\n",
              "      <td>141.0</td>\n",
              "      <td>360.0</td>\n",
              "      <td>1.0</td>\n",
              "      <td>Urban</td>\n",
              "      <td>Y</td>\n",
              "    </tr>\n",
              "    <tr>\n",
              "      <th>...</th>\n",
              "      <td>...</td>\n",
              "      <td>...</td>\n",
              "      <td>...</td>\n",
              "      <td>...</td>\n",
              "      <td>...</td>\n",
              "      <td>...</td>\n",
              "      <td>...</td>\n",
              "      <td>...</td>\n",
              "      <td>...</td>\n",
              "      <td>...</td>\n",
              "      <td>...</td>\n",
              "      <td>...</td>\n",
              "      <td>...</td>\n",
              "    </tr>\n",
              "    <tr>\n",
              "      <th>609</th>\n",
              "      <td>LP002978</td>\n",
              "      <td>Female</td>\n",
              "      <td>No</td>\n",
              "      <td>0</td>\n",
              "      <td>Graduate</td>\n",
              "      <td>No</td>\n",
              "      <td>2900</td>\n",
              "      <td>0.0</td>\n",
              "      <td>71.0</td>\n",
              "      <td>360.0</td>\n",
              "      <td>1.0</td>\n",
              "      <td>Rural</td>\n",
              "      <td>Y</td>\n",
              "    </tr>\n",
              "    <tr>\n",
              "      <th>610</th>\n",
              "      <td>LP002979</td>\n",
              "      <td>Male</td>\n",
              "      <td>Yes</td>\n",
              "      <td>3+</td>\n",
              "      <td>Graduate</td>\n",
              "      <td>No</td>\n",
              "      <td>4106</td>\n",
              "      <td>0.0</td>\n",
              "      <td>40.0</td>\n",
              "      <td>180.0</td>\n",
              "      <td>1.0</td>\n",
              "      <td>Rural</td>\n",
              "      <td>Y</td>\n",
              "    </tr>\n",
              "    <tr>\n",
              "      <th>611</th>\n",
              "      <td>LP002983</td>\n",
              "      <td>Male</td>\n",
              "      <td>Yes</td>\n",
              "      <td>1</td>\n",
              "      <td>Graduate</td>\n",
              "      <td>No</td>\n",
              "      <td>8072</td>\n",
              "      <td>240.0</td>\n",
              "      <td>253.0</td>\n",
              "      <td>360.0</td>\n",
              "      <td>1.0</td>\n",
              "      <td>Urban</td>\n",
              "      <td>Y</td>\n",
              "    </tr>\n",
              "    <tr>\n",
              "      <th>612</th>\n",
              "      <td>LP002984</td>\n",
              "      <td>Male</td>\n",
              "      <td>Yes</td>\n",
              "      <td>2</td>\n",
              "      <td>Graduate</td>\n",
              "      <td>No</td>\n",
              "      <td>7583</td>\n",
              "      <td>0.0</td>\n",
              "      <td>187.0</td>\n",
              "      <td>360.0</td>\n",
              "      <td>1.0</td>\n",
              "      <td>Urban</td>\n",
              "      <td>Y</td>\n",
              "    </tr>\n",
              "    <tr>\n",
              "      <th>613</th>\n",
              "      <td>LP002990</td>\n",
              "      <td>Female</td>\n",
              "      <td>No</td>\n",
              "      <td>0</td>\n",
              "      <td>Graduate</td>\n",
              "      <td>Yes</td>\n",
              "      <td>4583</td>\n",
              "      <td>0.0</td>\n",
              "      <td>133.0</td>\n",
              "      <td>360.0</td>\n",
              "      <td>0.0</td>\n",
              "      <td>Semiurban</td>\n",
              "      <td>N</td>\n",
              "    </tr>\n",
              "  </tbody>\n",
              "</table>\n",
              "<p>614 rows × 13 columns</p>\n",
              "</div>"
            ],
            "text/plain": [
              "      Loan_ID  Gender Married Dependents     Education Self_Employed  \\\n",
              "0    LP001002    Male      No          0      Graduate            No   \n",
              "1    LP001003    Male     Yes          1      Graduate            No   \n",
              "2    LP001005    Male     Yes          0      Graduate           Yes   \n",
              "3    LP001006    Male     Yes          0  Not Graduate            No   \n",
              "4    LP001008    Male      No          0      Graduate            No   \n",
              "..        ...     ...     ...        ...           ...           ...   \n",
              "609  LP002978  Female      No          0      Graduate            No   \n",
              "610  LP002979    Male     Yes         3+      Graduate            No   \n",
              "611  LP002983    Male     Yes          1      Graduate            No   \n",
              "612  LP002984    Male     Yes          2      Graduate            No   \n",
              "613  LP002990  Female      No          0      Graduate           Yes   \n",
              "\n",
              "     ApplicantIncome  CoapplicantIncome  LoanAmount  Loan_Amount_Term  \\\n",
              "0               5849                0.0         NaN             360.0   \n",
              "1               4583             1508.0       128.0             360.0   \n",
              "2               3000                0.0        66.0             360.0   \n",
              "3               2583             2358.0       120.0             360.0   \n",
              "4               6000                0.0       141.0             360.0   \n",
              "..               ...                ...         ...               ...   \n",
              "609             2900                0.0        71.0             360.0   \n",
              "610             4106                0.0        40.0             180.0   \n",
              "611             8072              240.0       253.0             360.0   \n",
              "612             7583                0.0       187.0             360.0   \n",
              "613             4583                0.0       133.0             360.0   \n",
              "\n",
              "     Credit_History Property_Area Loan_Status  \n",
              "0               1.0         Urban           Y  \n",
              "1               1.0         Rural           N  \n",
              "2               1.0         Urban           Y  \n",
              "3               1.0         Urban           Y  \n",
              "4               1.0         Urban           Y  \n",
              "..              ...           ...         ...  \n",
              "609             1.0         Rural           Y  \n",
              "610             1.0         Rural           Y  \n",
              "611             1.0         Urban           Y  \n",
              "612             1.0         Urban           Y  \n",
              "613             0.0     Semiurban           N  \n",
              "\n",
              "[614 rows x 13 columns]"
            ]
          },
          "execution_count": 89,
          "metadata": {},
          "output_type": "execute_result"
        }
      ],
      "source": [
        "df"
      ]
    },
    {
      "cell_type": "code",
      "execution_count": null,
      "metadata": {
        "colab": {
          "base_uri": "https://localhost:8080/"
        },
        "id": "W7-cDY_wma2L",
        "outputId": "b735becd-0dba-4a32-9e10-a095d316b297"
      },
      "outputs": [
        {
          "data": {
            "text/plain": [
              "(614, 13)"
            ]
          },
          "execution_count": 90,
          "metadata": {},
          "output_type": "execute_result"
        }
      ],
      "source": [
        "df.shape"
      ]
    },
    {
      "cell_type": "code",
      "execution_count": null,
      "metadata": {
        "id": "fH1bYAdCmjHS"
      },
      "outputs": [],
      "source": [
        "#Correcting the column names \n",
        "\n",
        "df = df.rename(columns=lambda x: x.replace('_',''))"
      ]
    },
    {
      "cell_type": "code",
      "execution_count": null,
      "metadata": {
        "id": "0uSh94NAPd62"
      },
      "outputs": [],
      "source": [
        "# Adding both ApplicantIncome and CoapplicantIncome to TotalIncome column\n",
        "\n",
        "df['TotalIncome'] = df['ApplicantIncome'] + df['CoapplicantIncome']"
      ]
    },
    {
      "cell_type": "code",
      "execution_count": null,
      "metadata": {
        "colab": {
          "base_uri": "https://localhost:8080/"
        },
        "id": "EY4T4235WWDT",
        "outputId": "5a0e9aaa-500b-44b8-beef-c1a09d8a9591"
      },
      "outputs": [
        {
          "data": {
            "text/plain": [
              "LoanID                0\n",
              "Gender               13\n",
              "Married               3\n",
              "Dependents           15\n",
              "Education             0\n",
              "SelfEmployed         32\n",
              "ApplicantIncome       0\n",
              "CoapplicantIncome     0\n",
              "LoanAmount           22\n",
              "LoanAmountTerm       14\n",
              "CreditHistory        50\n",
              "PropertyArea          0\n",
              "LoanStatus            0\n",
              "TotalIncome           0\n",
              "dtype: int64"
            ]
          },
          "execution_count": 93,
          "metadata": {},
          "output_type": "execute_result"
        }
      ],
      "source": [
        "#Looking at the missing values in the dataset\n",
        "\n",
        "df.isnull().sum()"
      ]
    },
    {
      "cell_type": "code",
      "execution_count": null,
      "metadata": {
        "id": "hxNl09batCnM"
      },
      "outputs": [],
      "source": [
        "# Filling the data using forward fill to avoid biasing\n",
        "\n",
        "df['Gender'].fillna(method='ffill',axis=0,inplace=True)\n",
        "df['Married'].fillna(method='ffill',axis=0,inplace=True)"
      ]
    },
    {
      "cell_type": "code",
      "execution_count": null,
      "metadata": {
        "colab": {
          "base_uri": "https://localhost:8080/"
        },
        "id": "EP8I-UkOuaUB",
        "outputId": "18dc2949-46b4-468b-e0a6-88c9444928a2"
      },
      "outputs": [
        {
          "data": {
            "text/plain": [
              "0     345\n",
              "1     102\n",
              "2     101\n",
              "3+     51\n",
              "Name: Dependents, dtype: int64"
            ]
          },
          "execution_count": 95,
          "metadata": {},
          "output_type": "execute_result"
        }
      ],
      "source": [
        "df['Dependents'].value_counts()"
      ]
    },
    {
      "cell_type": "code",
      "execution_count": null,
      "metadata": {
        "id": "Z4Zs0zJ1v5Gs"
      },
      "outputs": [],
      "source": [
        "# Going with the max occuring data\n",
        "\n",
        "df['Dependents'].fillna('0',inplace=True)"
      ]
    },
    {
      "cell_type": "code",
      "execution_count": null,
      "metadata": {
        "colab": {
          "base_uri": "https://localhost:8080/"
        },
        "id": "tJ0668fgDdm7",
        "outputId": "ed52f7fd-e8b5-4f43-c259-319d56903bac"
      },
      "outputs": [
        {
          "data": {
            "text/plain": [
              "0     345\n",
              "2     116\n",
              "1     102\n",
              "3+     51\n",
              "Name: Dependents, dtype: int64"
            ]
          },
          "execution_count": 97,
          "metadata": {},
          "output_type": "execute_result"
        }
      ],
      "source": [
        "df['Dependents'].value_counts()"
      ]
    },
    {
      "cell_type": "code",
      "execution_count": null,
      "metadata": {
        "colab": {
          "base_uri": "https://localhost:8080/"
        },
        "id": "kQcXIUDtxVxc",
        "outputId": "6f0fdf7e-89ea-4920-b7be-8d270a6fb3e9"
      },
      "outputs": [
        {
          "data": {
            "text/plain": [
              "No     500\n",
              "Yes     82\n",
              "Name: SelfEmployed, dtype: int64"
            ]
          },
          "execution_count": 98,
          "metadata": {},
          "output_type": "execute_result"
        }
      ],
      "source": [
        "df['SelfEmployed'].value_counts()"
      ]
    },
    {
      "cell_type": "code",
      "execution_count": null,
      "metadata": {
        "id": "PYNNdyd1xhuu"
      },
      "outputs": [],
      "source": [
        "# Going with the max occuring data\n",
        "\n",
        "df['SelfEmployed'].fillna('No',inplace=True)"
      ]
    },
    {
      "cell_type": "code",
      "execution_count": null,
      "metadata": {
        "id": "CGVNVZrAUR6f",
        "outputId": "4bb39da2-0ea4-4feb-f205-e4521fd23f3e"
      },
      "outputs": [
        {
          "data": {
            "text/plain": [
              "<AxesSubplot:xlabel='TotalIncome', ylabel='Density'>"
            ]
          },
          "execution_count": 100,
          "metadata": {},
          "output_type": "execute_result"
        },
        {
          "data": {
            "image/png": "[encoded data removed]",
            "text/plain": [
              "<Figure size 360x288 with 1 Axes>"
            ]
          },
          "metadata": {
            "needs_background": "light"
          },
          "output_type": "display_data"
        }
      ],
      "source": [
        "#Checking the density of Total Income\n",
        "\n",
        "fig = plt.figure(figsize=(5,4))\n",
        "sns.distplot(df['TotalIncome'])"
      ]
    },
    {
      "cell_type": "code",
      "execution_count": null,
      "metadata": {
        "colab": {
          "base_uri": "https://localhost:8080/"
        },
        "id": "m-6Uam61xppv",
        "outputId": "d11a7375-941e-4ab1-e4be-da2fbb61211e"
      },
      "outputs": [
        {
          "data": {
            "text/plain": [
              "120.0    20\n",
              "110.0    17\n",
              "100.0    15\n",
              "160.0    12\n",
              "187.0    12\n",
              "         ..\n",
              "240.0     1\n",
              "214.0     1\n",
              "59.0      1\n",
              "166.0     1\n",
              "253.0     1\n",
              "Name: LoanAmount, Length: 203, dtype: int64"
            ]
          },
          "execution_count": 101,
          "metadata": {},
          "output_type": "execute_result"
        }
      ],
      "source": [
        "df['LoanAmount'].value_counts()"
      ]
    },
    {
      "cell_type": "code",
      "execution_count": null,
      "metadata": {
        "colab": {
          "base_uri": "https://localhost:8080/",
          "height": 514
        },
        "id": "VMgKqnXU21ZG",
        "outputId": "5de3bfa6-6d9d-49d2-8548-71954048ac0b"
      },
      "outputs": [
        {
          "data": {
            "text/plain": [
              "(0.0, 800.0)"
            ]
          },
          "execution_count": 102,
          "metadata": {},
          "output_type": "execute_result"
        },
        {
          "data": {
            "image/png": "[encoded data removed]",
            "text/plain": [
              "<Figure size 360x288 with 1 Axes>"
            ]
          },
          "metadata": {
            "needs_background": "light"
          },
          "output_type": "display_data"
        }
      ],
      "source": [
        "# Checking density of Loan Amount\n",
        "\n",
        "fig = plt.figure(figsize=(5,4))\n",
        "sns.distplot(df['LoanAmount'])\n",
        "plt.xlim(0,800)"
      ]
    },
    {
      "cell_type": "code",
      "execution_count": null,
      "metadata": {
        "colab": {
          "base_uri": "https://localhost:8080/"
        },
        "id": "99b97KhS4veC",
        "outputId": "5ef05c15-3205-4279-f85e-462d54c16cee"
      },
      "outputs": [
        {
          "data": {
            "text/plain": [
              "127.78284671532846"
            ]
          },
          "execution_count": 103,
          "metadata": {},
          "output_type": "execute_result"
        }
      ],
      "source": [
        "# Excluding the outliers and finding mean\n",
        "\n",
        "a=df.LoanAmount[df.LoanAmount>30]\n",
        "amt=df.LoanAmount[df.LoanAmount<260]\n",
        "amt.mean()"
      ]
    },
    {
      "cell_type": "code",
      "execution_count": null,
      "metadata": {
        "id": "GiROkTmO8TRN"
      },
      "outputs": [],
      "source": [
        "# Filling the rest of the applicants' Loan Amount data with the average amount\n",
        "\n",
        "df['LoanAmount'].fillna(127.7,inplace=True)"
      ]
    },
    {
      "cell_type": "code",
      "execution_count": null,
      "metadata": {
        "colab": {
          "base_uri": "https://localhost:8080/"
        },
        "id": "dkt2e8K_LwUm",
        "outputId": "363b6570-7876-4b68-924c-3291611873fd"
      },
      "outputs": [
        {
          "data": {
            "text/plain": [
              "360.0    512\n",
              "180.0     44\n",
              "480.0     15\n",
              "300.0     13\n",
              "240.0      4\n",
              "84.0       4\n",
              "120.0      3\n",
              "60.0       2\n",
              "36.0       2\n",
              "12.0       1\n",
              "Name: LoanAmountTerm, dtype: int64"
            ]
          },
          "execution_count": 105,
          "metadata": {},
          "output_type": "execute_result"
        }
      ],
      "source": [
        "df['LoanAmountTerm'].value_counts()"
      ]
    },
    {
      "cell_type": "code",
      "execution_count": null,
      "metadata": {
        "id": "vZBgXpSA84Ku"
      },
      "outputs": [],
      "source": [
        "# It is seen that people take Loan Amount Term as 30 years or 360 months\n",
        "\n",
        "df['LoanAmountTerm'].fillna(360.0,inplace=True)"
      ]
    },
    {
      "cell_type": "code",
      "execution_count": null,
      "metadata": {
        "id": "6oNPzYjN0WcU"
      },
      "outputs": [],
      "source": [
        "# Going with max occuring data \n",
        "\n",
        "df['CreditHistory'].fillna(1.0,inplace=True)"
      ]
    },
    {
      "cell_type": "code",
      "execution_count": null,
      "metadata": {
        "colab": {
          "base_uri": "https://localhost:8080/"
        },
        "id": "zvGn25tF-M2_",
        "outputId": "5701f0e6-db93-4753-b8db-783168a3b6b5"
      },
      "outputs": [
        {
          "data": {
            "text/plain": [
              "LoanID               0\n",
              "Gender               0\n",
              "Married              0\n",
              "Dependents           0\n",
              "Education            0\n",
              "SelfEmployed         0\n",
              "ApplicantIncome      0\n",
              "CoapplicantIncome    0\n",
              "LoanAmount           0\n",
              "LoanAmountTerm       0\n",
              "CreditHistory        0\n",
              "PropertyArea         0\n",
              "LoanStatus           0\n",
              "TotalIncome          0\n",
              "dtype: int64"
            ]
          },
          "execution_count": 108,
          "metadata": {},
          "output_type": "execute_result"
        }
      ],
      "source": [
        "df.isnull().sum()"
      ]
    },
    {
      "cell_type": "code",
      "execution_count": null,
      "metadata": {
        "colab": {
          "base_uri": "https://localhost:8080/",
          "height": 426
        },
        "id": "SY_q3bFtmz2p",
        "outputId": "e1d976d7-7bf5-4a9f-aeb6-474b684835b9"
      },
      "outputs": [
        {
          "data": {
            "text/plain": [
              "<AxesSubplot:>"
            ]
          },
          "execution_count": 109,
          "metadata": {},
          "output_type": "execute_result"
        },
        {
          "data": {
            "image/png": "[encoded data removed]",
            "text/plain": [
              "<Figure size 576x360 with 2 Axes>"
            ]
          },
          "metadata": {
            "needs_background": "light"
          },
          "output_type": "display_data"
        }
      ],
      "source": [
        "# Checking for correlation between data\n",
        "\n",
        "plt.figure(figsize=(8,5))\n",
        "sns.heatmap(df.corr(),annot=True)"
      ]
    },
    {
      "cell_type": "markdown",
      "metadata": {
        "id": "KrM3Mk1rNN6i"
      },
      "source": [
        "Since Loan Amount and Total Income are somewhat related it shows that people are applying for the amount which they can pay easily..basically playing safe."
      ]
    },
    {
      "cell_type": "code",
      "execution_count": null,
      "metadata": {
        "id": "1itiOvyoOFvN"
      },
      "outputs": [],
      "source": [
        "features = ['Gender','Married','Dependents','Education','SelfEmployed','CreditHistory','PropertyArea']"
      ]
    },
    {
      "cell_type": "code",
      "execution_count": null,
      "metadata": {
        "colab": {
          "base_uri": "https://localhost:8080/",
          "height": 769
        },
        "id": "gc_wG4DRHRkQ",
        "outputId": "b87dab6d-e99b-4803-db46-7104ad23e39f"
      },
      "outputs": [
        {
          "data": {
            "image/png": "[encoded data removed]",
            "text/plain": [
              "<Figure size 1080x936 with 7 Axes>"
            ]
          },
          "metadata": {
            "needs_background": "light"
          },
          "output_type": "display_data"
        }
      ],
      "source": [
        "# Plotting graphs to understand the ratio of people\n",
        "\n",
        "fig = plt.figure(figsize=(15,13))\n",
        "for column, feature in enumerate(features):\n",
        "    fig.add_subplot(3,3,column+1)\n",
        "    sns.countplot(data=df,x=feature)"
      ]
    },
    {
      "cell_type": "markdown",
      "metadata": {
        "id": "oob_yjArKT_3"
      },
      "source": [
        "Findings..\n",
        "1. Males are applying more for loans than females\n",
        "\n",
        "2. Married people are applying more for loans than unmarried\n",
        "\n",
        "3. Graduate people are applying more for loans\n",
        "\n",
        "4. People with 0 dependents are applying more for loans\n",
        "\n",
        "5. People from service sector are applying more for loans\n",
        "\n",
        "6. People are taking loan term for 360 months ie 30 years\n",
        "\n",
        "7. People who are meeting the credit history guidelines are applying more for loans\n",
        "\n",
        "8. More people from semi urban area are applying for loans"
      ]
    },
    {
      "cell_type": "code",
      "execution_count": null,
      "metadata": {
        "colab": {
          "base_uri": "https://localhost:8080/",
          "height": 769
        },
        "id": "DewMWLfK_2A2",
        "outputId": "6d9ec8e3-1a7a-4534-d19a-27cfcd1e0e46"
      },
      "outputs": [
        {
          "data": {
            "image/png": "[encoded data removed]",
            "text/plain": [
              "<Figure size 1080x936 with 7 Axes>"
            ]
          },
          "metadata": {
            "needs_background": "light"
          },
          "output_type": "display_data"
        }
      ],
      "source": [
        "# Plotting graphs to understand relationship between Loan Amounts and type of people\n",
        "\n",
        "fig = plt.figure(figsize=(15,13))\n",
        "for column, feature in enumerate(features):\n",
        "    fig.add_subplot(3,3,column+1)\n",
        "    sns.barplot(data=df,y='LoanAmount',x=feature)"
      ]
    },
    {
      "cell_type": "markdown",
      "metadata": {
        "id": "SRZZh4sOKV5Q"
      },
      "source": [
        "Findings..\n",
        "\n",
        "1. Males are applying more for loans that too for higher amounts\n",
        "\n",
        "2. Graduated people are applying more for loans that too for higher amounts\n",
        "\n",
        "3. Married people are applying more for loans that too for higher amounts\n",
        "\n",
        "4. People who have 3+ dependies on them apply for higher amount loans but are least in number\n",
        "\n",
        "5. Rural people apply for higher amount loans but are less than semi urban people\n",
        "\n",
        "6. Self Employed people apply for higher amount loans but are less in number\n",
        "\n",
        "7. People who don't meet Credit History guidelines are applying for higher amount loans\n"
      ]
    },
    {
      "cell_type": "code",
      "execution_count": null,
      "metadata": {
        "colab": {
          "base_uri": "https://localhost:8080/",
          "height": 704
        },
        "id": "-Lumj_X8bSdT",
        "outputId": "f8ba2f28-4656-40bc-9217-26da8132e4c9"
      },
      "outputs": [
        {
          "data": {
            "image/png": "[encoded data removed]",
            "text/plain": [
              "<Figure size 1080x1296 with 7 Axes>"
            ]
          },
          "metadata": {
            "needs_background": "light"
          },
          "output_type": "display_data"
        }
      ],
      "source": [
        "# Plotting graphs to understand the ratio of people who actually got loan approved\n",
        "\n",
        "fig = plt.figure(figsize=(15,18))\n",
        "for column, feature in enumerate(features):\n",
        "    fig.add_subplot(3,3,column+1)\n",
        "    sns.countplot(x=feature, hue='LoanStatus',data=df)\n",
        "    plt.xlabel(feature)\n",
        "    plt.ylabel('Count')\n",
        "    plt.title('{} vs Loan Status'.format(feature))      "
      ]
    },
    {
      "cell_type": "code",
      "execution_count": null,
      "metadata": {
        "id": "NhStczb_fRXV"
      },
      "outputs": [],
      "source": [
        "# Made a function to get above graph values in numeric form\n",
        "\n",
        "def get_values(var):\n",
        "    temp=pd.crosstab(df[var],df['LoanStatus'],margins=True)\n",
        "    print(temp)"
      ]
    },
    {
      "cell_type": "code",
      "execution_count": null,
      "metadata": {
        "colab": {
          "base_uri": "https://localhost:8080/",
          "height": 502
        },
        "id": "rsV0Yv3QjdL2",
        "outputId": "35f80475-bd4e-4f0e-80b8-0b47acfe1662"
      },
      "outputs": [
        {
          "name": "stdout",
          "output_type": "stream",
          "text": [
            "LoanStatus      N    Y  All\n",
            "PropertyArea               \n",
            "Rural          69  110  179\n",
            "Semiurban      54  179  233\n",
            "Urban          69  133  202\n",
            "All           192  422  614\n"
          ]
        }
      ],
      "source": [
        "get_values('PropertyArea')"
      ]
    },
    {
      "cell_type": "markdown",
      "metadata": {
        "id": "EM4Fh79ZkgpR"
      },
      "source": [
        "Loan will be preferrably given to those..\n",
        "\n",
        "who have Credit History\n",
        "\n",
        "with higher Total Incomes (Applicant + Coapplicant)\n",
        "\n",
        "who work in service sector\n",
        "\n",
        "who have 0 dependies\n",
        "\n",
        "with higher Education levels\n",
        "\n",
        "who have Property Area as urban"
      ]
    },
    {
      "cell_type": "code",
      "execution_count": null,
      "metadata": {
        "colab": {
          "base_uri": "https://localhost:8080/"
        },
        "id": "A8KSVs010SdI",
        "outputId": "3e9f2263-82a4-4cb7-cf3c-cdc3d3df2a5c"
      },
      "outputs": [
        {
          "name": "stdout",
          "output_type": "stream",
          "text": [
            "<class 'pandas.core.frame.DataFrame'>\n",
            "RangeIndex: 614 entries, 0 to 613\n",
            "Data columns (total 14 columns):\n",
            " #   Column             Non-Null Count  Dtype  \n",
            "---  ------             --------------  -----  \n",
            " 0   LoanID             614 non-null    object \n",
            " 1   Gender             614 non-null    object \n",
            " 2   Married            614 non-null    object \n",
            " 3   Dependents         614 non-null    object \n",
            " 4   Education          614 non-null    object \n",
            " 5   SelfEmployed       614 non-null    object \n",
            " 6   ApplicantIncome    614 non-null    int64  \n",
            " 7   CoapplicantIncome  614 non-null    float64\n",
            " 8   LoanAmount         614 non-null    float64\n",
            " 9   LoanAmountTerm     614 non-null    float64\n",
            " 10  CreditHistory      614 non-null    float64\n",
            " 11  PropertyArea       614 non-null    object \n",
            " 12  LoanStatus         614 non-null    object \n",
            " 13  TotalIncome        614 non-null    float64\n",
            "dtypes: float64(5), int64(1), object(8)\n",
            "memory usage: 67.3+ KB\n"
          ]
        }
      ],
      "source": [
        "df.info()"
      ]
    },
    {
      "cell_type": "code",
      "execution_count": null,
      "metadata": {
        "id": "qZ84sDv1UR6m",
        "outputId": "c226d113-ae19-45e4-d572-54a1766a338d"
      },
      "outputs": [
        {
          "data": {
            "text/html": [
              "<div>\n",
              "<style scoped>\n",
              "    .dataframe tbody tr th:only-of-type {\n",
              "        vertical-align: middle;\n",
              "    }\n",
              "\n",
              "    .dataframe tbody tr th {\n",
              "        vertical-align: top;\n",
              "    }\n",
              "\n",
              "    .dataframe thead th {\n",
              "        text-align: right;\n",
              "    }\n",
              "</style>\n",
              "<table border=\"1\" class=\"dataframe\">\n",
              "  <thead>\n",
              "    <tr style=\"text-align: right;\">\n",
              "      <th></th>\n",
              "      <th>Gender</th>\n",
              "      <th>Married</th>\n",
              "      <th>Dependents</th>\n",
              "      <th>Education</th>\n",
              "      <th>SelfEmployed</th>\n",
              "      <th>LoanAmount</th>\n",
              "      <th>LoanAmountTerm</th>\n",
              "      <th>CreditHistory</th>\n",
              "      <th>PropertyArea</th>\n",
              "      <th>LoanStatus</th>\n",
              "      <th>TotalIncome</th>\n",
              "    </tr>\n",
              "  </thead>\n",
              "  <tbody>\n",
              "    <tr>\n",
              "      <th>0</th>\n",
              "      <td>1</td>\n",
              "      <td>0</td>\n",
              "      <td>0</td>\n",
              "      <td>0</td>\n",
              "      <td>0</td>\n",
              "      <td>127.7</td>\n",
              "      <td>360.0</td>\n",
              "      <td>1</td>\n",
              "      <td>2</td>\n",
              "      <td>Y</td>\n",
              "      <td>5849.0</td>\n",
              "    </tr>\n",
              "    <tr>\n",
              "      <th>1</th>\n",
              "      <td>1</td>\n",
              "      <td>1</td>\n",
              "      <td>1</td>\n",
              "      <td>0</td>\n",
              "      <td>0</td>\n",
              "      <td>128.0</td>\n",
              "      <td>360.0</td>\n",
              "      <td>1</td>\n",
              "      <td>0</td>\n",
              "      <td>N</td>\n",
              "      <td>6091.0</td>\n",
              "    </tr>\n",
              "    <tr>\n",
              "      <th>2</th>\n",
              "      <td>1</td>\n",
              "      <td>1</td>\n",
              "      <td>0</td>\n",
              "      <td>0</td>\n",
              "      <td>1</td>\n",
              "      <td>66.0</td>\n",
              "      <td>360.0</td>\n",
              "      <td>1</td>\n",
              "      <td>2</td>\n",
              "      <td>Y</td>\n",
              "      <td>3000.0</td>\n",
              "    </tr>\n",
              "    <tr>\n",
              "      <th>3</th>\n",
              "      <td>1</td>\n",
              "      <td>1</td>\n",
              "      <td>0</td>\n",
              "      <td>1</td>\n",
              "      <td>0</td>\n",
              "      <td>120.0</td>\n",
              "      <td>360.0</td>\n",
              "      <td>1</td>\n",
              "      <td>2</td>\n",
              "      <td>Y</td>\n",
              "      <td>4941.0</td>\n",
              "    </tr>\n",
              "    <tr>\n",
              "      <th>4</th>\n",
              "      <td>1</td>\n",
              "      <td>0</td>\n",
              "      <td>0</td>\n",
              "      <td>0</td>\n",
              "      <td>0</td>\n",
              "      <td>141.0</td>\n",
              "      <td>360.0</td>\n",
              "      <td>1</td>\n",
              "      <td>2</td>\n",
              "      <td>Y</td>\n",
              "      <td>6000.0</td>\n",
              "    </tr>\n",
              "    <tr>\n",
              "      <th>...</th>\n",
              "      <td>...</td>\n",
              "      <td>...</td>\n",
              "      <td>...</td>\n",
              "      <td>...</td>\n",
              "      <td>...</td>\n",
              "      <td>...</td>\n",
              "      <td>...</td>\n",
              "      <td>...</td>\n",
              "      <td>...</td>\n",
              "      <td>...</td>\n",
              "      <td>...</td>\n",
              "    </tr>\n",
              "    <tr>\n",
              "      <th>609</th>\n",
              "      <td>0</td>\n",
              "      <td>0</td>\n",
              "      <td>0</td>\n",
              "      <td>0</td>\n",
              "      <td>0</td>\n",
              "      <td>71.0</td>\n",
              "      <td>360.0</td>\n",
              "      <td>1</td>\n",
              "      <td>0</td>\n",
              "      <td>Y</td>\n",
              "      <td>2900.0</td>\n",
              "    </tr>\n",
              "    <tr>\n",
              "      <th>610</th>\n",
              "      <td>1</td>\n",
              "      <td>1</td>\n",
              "      <td>3</td>\n",
              "      <td>0</td>\n",
              "      <td>0</td>\n",
              "      <td>40.0</td>\n",
              "      <td>180.0</td>\n",
              "      <td>1</td>\n",
              "      <td>0</td>\n",
              "      <td>Y</td>\n",
              "      <td>4106.0</td>\n",
              "    </tr>\n",
              "    <tr>\n",
              "      <th>611</th>\n",
              "      <td>1</td>\n",
              "      <td>1</td>\n",
              "      <td>1</td>\n",
              "      <td>0</td>\n",
              "      <td>0</td>\n",
              "      <td>253.0</td>\n",
              "      <td>360.0</td>\n",
              "      <td>1</td>\n",
              "      <td>2</td>\n",
              "      <td>Y</td>\n",
              "      <td>8312.0</td>\n",
              "    </tr>\n",
              "    <tr>\n",
              "      <th>612</th>\n",
              "      <td>1</td>\n",
              "      <td>1</td>\n",
              "      <td>2</td>\n",
              "      <td>0</td>\n",
              "      <td>0</td>\n",
              "      <td>187.0</td>\n",
              "      <td>360.0</td>\n",
              "      <td>1</td>\n",
              "      <td>2</td>\n",
              "      <td>Y</td>\n",
              "      <td>7583.0</td>\n",
              "    </tr>\n",
              "    <tr>\n",
              "      <th>613</th>\n",
              "      <td>0</td>\n",
              "      <td>0</td>\n",
              "      <td>0</td>\n",
              "      <td>0</td>\n",
              "      <td>1</td>\n",
              "      <td>133.0</td>\n",
              "      <td>360.0</td>\n",
              "      <td>0</td>\n",
              "      <td>1</td>\n",
              "      <td>N</td>\n",
              "      <td>4583.0</td>\n",
              "    </tr>\n",
              "  </tbody>\n",
              "</table>\n",
              "<p>614 rows × 11 columns</p>\n",
              "</div>"
            ],
            "text/plain": [
              "     Gender  Married  Dependents  Education  SelfEmployed  LoanAmount  \\\n",
              "0         1        0           0          0             0       127.7   \n",
              "1         1        1           1          0             0       128.0   \n",
              "2         1        1           0          0             1        66.0   \n",
              "3         1        1           0          1             0       120.0   \n",
              "4         1        0           0          0             0       141.0   \n",
              "..      ...      ...         ...        ...           ...         ...   \n",
              "609       0        0           0          0             0        71.0   \n",
              "610       1        1           3          0             0        40.0   \n",
              "611       1        1           1          0             0       253.0   \n",
              "612       1        1           2          0             0       187.0   \n",
              "613       0        0           0          0             1       133.0   \n",
              "\n",
              "     LoanAmountTerm  CreditHistory  PropertyArea LoanStatus  TotalIncome  \n",
              "0             360.0              1             2          Y       5849.0  \n",
              "1             360.0              1             0          N       6091.0  \n",
              "2             360.0              1             2          Y       3000.0  \n",
              "3             360.0              1             2          Y       4941.0  \n",
              "4             360.0              1             2          Y       6000.0  \n",
              "..              ...            ...           ...        ...          ...  \n",
              "609           360.0              1             0          Y       2900.0  \n",
              "610           180.0              1             0          Y       4106.0  \n",
              "611           360.0              1             2          Y       8312.0  \n",
              "612           360.0              1             2          Y       7583.0  \n",
              "613           360.0              0             1          N       4583.0  \n",
              "\n",
              "[614 rows x 11 columns]"
            ]
          },
          "execution_count": 125,
          "metadata": {},
          "output_type": "execute_result"
        }
      ],
      "source": [
        "# Dropping the unnecessary columns\n",
        "\n",
        "df = df.drop(['ApplicantIncome','CoapplicantIncome','LoanID'],axis=1)\n",
        "df"
      ]
    },
    {
      "cell_type": "code",
      "execution_count": null,
      "metadata": {
        "id": "F4-fvO3uUR6m",
        "outputId": "0fe1fa7f-9f9f-4cd6-ed60-f7f6fe670818"
      },
      "outputs": [
        {
          "name": "stdout",
          "output_type": "stream",
          "text": [
            "(429, 11)\n",
            "(185, 11)\n"
          ]
        }
      ],
      "source": [
        "# Splitting the data set\n",
        "\n",
        "from sklearn.model_selection import train_test_split\n",
        "train, test = train_test_split(df,train_size=0.7,random_state=42)\n",
        "print(train.shape)\n",
        "print(test.shape)"
      ]
    },
    {
      "cell_type": "code",
      "execution_count": null,
      "metadata": {
        "id": "SIXVAg0IUR6n"
      },
      "outputs": [],
      "source": [
        "y_train = train.pop('LoanStatus')\n",
        "x_train = train\n",
        "\n",
        "y_test = test.pop('LoanStatus')\n",
        "x_test = test"
      ]
    },
    {
      "cell_type": "code",
      "execution_count": null,
      "metadata": {
        "colab": {
          "base_uri": "https://localhost:8080/"
        },
        "id": "tUkD5ZPvkgpP",
        "outputId": "890c8c7f-b3f7-46ee-c117-500052d7814a"
      },
      "outputs": [
        {
          "data": {
            "text/plain": [
              "Gender              int32\n",
              "Married             int32\n",
              "Dependents          int32\n",
              "Education           int32\n",
              "SelfEmployed        int32\n",
              "LoanAmount        float64\n",
              "LoanAmountTerm    float64\n",
              "CreditHistory       int32\n",
              "PropertyArea        int32\n",
              "LoanStatus         object\n",
              "TotalIncome       float64\n",
              "dtype: object"
            ]
          },
          "execution_count": 138,
          "metadata": {},
          "output_type": "execute_result"
        }
      ],
      "source": [
        "# Sklearn requires all inputs to be numeric, we should convert all our categorical variables into numeric by encoding the categories.\n",
        "\n",
        "from sklearn import preprocessing\n",
        "from sklearn.preprocessing import LabelEncoder\n",
        "lst=['Gender','Married','Dependents','Education','SelfEmployed','CreditHistory','PropertyArea']\n",
        "for i in lst:\n",
        "    le = preprocessing.LabelEncoder()\n",
        "    df[i]=le.fit_transform(df[i].astype('str'))\n",
        " \n",
        "df.dtypes"
      ]
    },
    {
      "cell_type": "code",
      "execution_count": null,
      "metadata": {
        "id": "t_zm8I3YUR6o"
      },
      "outputs": [],
      "source": [
        "# Scaling the data set\n",
        "\n",
        "from sklearn.preprocessing import StandardScaler\n",
        "scaler = StandardScaler()\n",
        "x_train[x_train.columns] = scaler.fit_transform(x_train[x_train.columns])\n",
        "x_test[x_test.columns] = scaler.fit_transform(x_test[x_test.columns])"
      ]
    },
    {
      "cell_type": "code",
      "execution_count": null,
      "metadata": {
        "id": "Q8Mz_K5tUR6o",
        "outputId": "38fb88eb-53e5-4520-d94e-e01b27ff5011"
      },
      "outputs": [
        {
          "data": {
            "text/plain": [
              "LogisticRegression()"
            ]
          },
          "execution_count": 141,
          "metadata": {},
          "output_type": "execute_result"
        }
      ],
      "source": [
        "# Applying the Logistic Regression Model\n",
        "\n",
        "from sklearn.linear_model import LogisticRegression\n",
        "lr = LogisticRegression()\n",
        "lr.fit(x_train,y_train)"
      ]
    },
    {
      "cell_type": "code",
      "execution_count": null,
      "metadata": {
        "id": "SZ1OrJrpUR6o",
        "outputId": "48a3eecc-1b6c-48cd-e355-c9f7951d9293"
      },
      "outputs": [
        {
          "name": "stdout",
          "output_type": "stream",
          "text": [
            "Accuracy of logistic regression classifier on test data set is: 0.77\n",
            "[[ 34  31]\n",
            " [ 12 108]]\n"
          ]
        }
      ],
      "source": [
        "y_pred = lr.predict(x_test)\n",
        "print('Accuracy of logistic regression classifier on test data set is: {:.2f}'.format(lr.score(x_test,y_test)))\n",
        "\n",
        "from sklearn.metrics import confusion_matrix\n",
        "confusion_matrix = confusion_matrix(y_test, y_pred)\n",
        "print(confusion_matrix)"
      ]
    }
  ],
  "metadata": {
    "colab": {
      "provenance": []
    },
    "kernelspec": {
      "display_name": "Python 3 (ipykernel)",
      "language": "python",
      "name": "python3"
    },
    "language_info": {
      "codemirror_mode": {
        "name": "ipython",
        "version": 3
      },
      "file_extension": ".py",
      "mimetype": "text/x-python",
      "name": "python",
      "nbconvert_exporter": "python",
      "pygments_lexer": "ipython3",
      "version": "3.9.12"
    }
  },
  "nbformat": 4,
  "nbformat_minor": 0
}