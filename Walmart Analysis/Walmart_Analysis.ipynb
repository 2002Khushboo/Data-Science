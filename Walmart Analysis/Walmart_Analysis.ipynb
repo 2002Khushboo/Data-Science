{
  "cells": [
    {
      "cell_type": "code",
      "execution_count": null,
      "id": "5ee4b787",
      "metadata": {
        "id": "5ee4b787"
      },
      "outputs": [],
      "source": [
        "#1. import the neccessary libraries\n",
        "\n",
        "import pandas as pd\n",
        "import numpy as np\n",
        "import matplotlib.pyplot as plt\n",
        "import seaborn as sns\n",
        "import warnings\n",
        "warnings.filterwarnings('ignore')"
      ]
    },
    {
      "cell_type": "code",
      "execution_count": null,
      "id": "7a236db6",
      "metadata": {
        "id": "7a236db6"
      },
      "outputs": [],
      "source": [
        "#2. read the data sets provided\n",
        "\n",
        "train_df = pd.read_csv('train_walmart.csv')\n",
        "features_df = pd.read_csv(\"features.csv\")\n",
        "stores_df = pd.read_csv(\"stores.csv\")"
      ]
    },
    {
      "cell_type": "code",
      "execution_count": null,
      "id": "465802a0",
      "metadata": {
        "colab": {
          "base_uri": "https://localhost:8080/"
        },
        "id": "465802a0",
        "outputId": "02bcea34-90e9-4603-d720-b7b24f977cf0"
      },
      "outputs": [
        {
          "output_type": "execute_result",
          "data": {
            "text/plain": [
              "Store           0\n",
              "Dept            0\n",
              "Date            0\n",
              "Weekly_Sales    0\n",
              "IsHoliday       0\n",
              "dtype: int64"
            ]
          },
          "metadata": {},
          "execution_count": 39
        }
      ],
      "source": [
        "#3. checking for null values\n",
        "\n",
        "train_df.isnull().sum()"
      ]
    },
    {
      "cell_type": "code",
      "execution_count": null,
      "id": "f0015210",
      "metadata": {
        "colab": {
          "base_uri": "https://localhost:8080/"
        },
        "id": "f0015210",
        "outputId": "d67a419f-8545-4583-f6f1-e448c5110141"
      },
      "outputs": [
        {
          "output_type": "execute_result",
          "data": {
            "text/plain": [
              "Store              0\n",
              "Date               0\n",
              "Temperature        0\n",
              "Fuel_Price         0\n",
              "MarkDown1       4158\n",
              "MarkDown2       5269\n",
              "MarkDown3       4577\n",
              "MarkDown4       4726\n",
              "MarkDown5       4140\n",
              "CPI              585\n",
              "Unemployment     585\n",
              "IsHoliday          0\n",
              "dtype: int64"
            ]
          },
          "metadata": {},
          "execution_count": 40
        }
      ],
      "source": [
        "features_df.isnull().sum()"
      ]
    },
    {
      "cell_type": "code",
      "execution_count": null,
      "id": "32c75ece",
      "metadata": {
        "colab": {
          "base_uri": "https://localhost:8080/"
        },
        "id": "32c75ece",
        "outputId": "3433b010-61f2-4ecc-810d-17a227641388"
      },
      "outputs": [
        {
          "output_type": "execute_result",
          "data": {
            "text/plain": [
              "Store    0\n",
              "Type     0\n",
              "Size     0\n",
              "dtype: int64"
            ]
          },
          "metadata": {},
          "execution_count": 41
        }
      ],
      "source": [
        "stores_df.isnull().sum()"
      ]
    },
    {
      "cell_type": "code",
      "source": [
        "#3.1 checking the data types\n",
        "\n",
        "features_df.info()"
      ],
      "metadata": {
        "colab": {
          "base_uri": "https://localhost:8080/"
        },
        "id": "_lCGpoxGDS4x",
        "outputId": "f4f25c80-5581-4aed-cc1f-68c12adbcd79"
      },
      "id": "_lCGpoxGDS4x",
      "execution_count": null,
      "outputs": [
        {
          "output_type": "stream",
          "name": "stdout",
          "text": [
            "<class 'pandas.core.frame.DataFrame'>\n",
            "RangeIndex: 8190 entries, 0 to 8189\n",
            "Data columns (total 12 columns):\n",
            " #   Column        Non-Null Count  Dtype  \n",
            "---  ------        --------------  -----  \n",
            " 0   Store         8190 non-null   int64  \n",
            " 1   Date          8190 non-null   object \n",
            " 2   Temperature   8190 non-null   float64\n",
            " 3   Fuel_Price    8190 non-null   float64\n",
            " 4   MarkDown1     4032 non-null   float64\n",
            " 5   MarkDown2     2921 non-null   float64\n",
            " 6   MarkDown3     3613 non-null   float64\n",
            " 7   MarkDown4     3464 non-null   float64\n",
            " 8   MarkDown5     4050 non-null   float64\n",
            " 9   CPI           7605 non-null   float64\n",
            " 10  Unemployment  7605 non-null   float64\n",
            " 11  IsHoliday     8190 non-null   bool   \n",
            "dtypes: bool(1), float64(9), int64(1), object(1)\n",
            "memory usage: 712.0+ KB\n"
          ]
        }
      ]
    },
    {
      "cell_type": "code",
      "source": [
        "stores_df.info()"
      ],
      "metadata": {
        "colab": {
          "base_uri": "https://localhost:8080/"
        },
        "id": "ab_Q7twnDoIS",
        "outputId": "625797cf-8a7d-4ecc-a9a4-1c26d7d24472"
      },
      "id": "ab_Q7twnDoIS",
      "execution_count": null,
      "outputs": [
        {
          "output_type": "stream",
          "name": "stdout",
          "text": [
            "<class 'pandas.core.frame.DataFrame'>\n",
            "RangeIndex: 45 entries, 0 to 44\n",
            "Data columns (total 3 columns):\n",
            " #   Column  Non-Null Count  Dtype \n",
            "---  ------  --------------  ----- \n",
            " 0   Store   45 non-null     int64 \n",
            " 1   Type    45 non-null     object\n",
            " 2   Size    45 non-null     int64 \n",
            "dtypes: int64(2), object(1)\n",
            "memory usage: 1.2+ KB\n"
          ]
        }
      ]
    },
    {
      "cell_type": "code",
      "execution_count": null,
      "id": "c609271a",
      "metadata": {
        "id": "c609271a"
      },
      "outputs": [],
      "source": [
        "#4.  join the data sets on the basis of common columns (here inner join is done)\n",
        "#Note: check the data type of the column being used as the basis of join (it should be same in both the tables)\n",
        "\n",
        "dataset_fs = features_df.merge(stores_df,how='inner',on='Store')"
      ]
    },
    {
      "cell_type": "code",
      "execution_count": null,
      "id": "d6cdf4b4",
      "metadata": {
        "colab": {
          "base_uri": "https://localhost:8080/"
        },
        "id": "d6cdf4b4",
        "outputId": "fec009c2-f162-46a9-9fbd-659fc17a9b5c"
      },
      "outputs": [
        {
          "output_type": "execute_result",
          "data": {
            "text/plain": [
              "(8190, 12)"
            ]
          },
          "metadata": {},
          "execution_count": 45
        }
      ],
      "source": [
        "#4.1 checking the rows and columns if the join is done correctly or not\n",
        "\n",
        "features_df.shape"
      ]
    },
    {
      "cell_type": "code",
      "source": [
        "stores_df.shape\n"
      ],
      "metadata": {
        "colab": {
          "base_uri": "https://localhost:8080/"
        },
        "id": "fcXJA0XxCgRk",
        "outputId": "a5bf6aeb-ab12-43c1-862e-af60c036f3a4"
      },
      "id": "fcXJA0XxCgRk",
      "execution_count": null,
      "outputs": [
        {
          "output_type": "execute_result",
          "data": {
            "text/plain": [
              "(45, 3)"
            ]
          },
          "metadata": {},
          "execution_count": 46
        }
      ]
    },
    {
      "cell_type": "code",
      "execution_count": null,
      "id": "b4d2482f",
      "metadata": {
        "colab": {
          "base_uri": "https://localhost:8080/"
        },
        "id": "b4d2482f",
        "outputId": "5aaca066-eb3b-41c9-9fed-346dab7aa9cd"
      },
      "outputs": [
        {
          "output_type": "execute_result",
          "data": {
            "text/plain": [
              "(8190, 14)"
            ]
          },
          "metadata": {},
          "execution_count": 47
        }
      ],
      "source": [
        "dataset_fs.shape"
      ]
    },
    {
      "cell_type": "code",
      "execution_count": null,
      "id": "bc20e7ed",
      "metadata": {
        "colab": {
          "base_uri": "https://localhost:8080/"
        },
        "id": "bc20e7ed",
        "outputId": "28a97424-0a42-440f-ec14-94e7a72cbaa6"
      },
      "outputs": [
        {
          "output_type": "stream",
          "name": "stdout",
          "text": [
            "<class 'pandas.core.frame.DataFrame'>\n",
            "RangeIndex: 421570 entries, 0 to 421569\n",
            "Data columns (total 5 columns):\n",
            " #   Column        Non-Null Count   Dtype  \n",
            "---  ------        --------------   -----  \n",
            " 0   Store         421570 non-null  int64  \n",
            " 1   Dept          421570 non-null  int64  \n",
            " 2   Date          421570 non-null  object \n",
            " 3   Weekly_Sales  421570 non-null  float64\n",
            " 4   IsHoliday     421570 non-null  bool   \n",
            "dtypes: bool(1), float64(1), int64(2), object(1)\n",
            "memory usage: 13.3+ MB\n"
          ]
        }
      ],
      "source": [
        "train_df.info()"
      ]
    },
    {
      "cell_type": "code",
      "execution_count": null,
      "id": "03eb482f",
      "metadata": {
        "colab": {
          "base_uri": "https://localhost:8080/"
        },
        "id": "03eb482f",
        "outputId": "a85a9e41-de70-4aa6-8674-88f09ecd8208"
      },
      "outputs": [
        {
          "output_type": "stream",
          "name": "stdout",
          "text": [
            "<class 'pandas.core.frame.DataFrame'>\n",
            "Int64Index: 8190 entries, 0 to 8189\n",
            "Data columns (total 14 columns):\n",
            " #   Column        Non-Null Count  Dtype  \n",
            "---  ------        --------------  -----  \n",
            " 0   Store         8190 non-null   int64  \n",
            " 1   Date          8190 non-null   object \n",
            " 2   Temperature   8190 non-null   float64\n",
            " 3   Fuel_Price    8190 non-null   float64\n",
            " 4   MarkDown1     4032 non-null   float64\n",
            " 5   MarkDown2     2921 non-null   float64\n",
            " 6   MarkDown3     3613 non-null   float64\n",
            " 7   MarkDown4     3464 non-null   float64\n",
            " 8   MarkDown5     4050 non-null   float64\n",
            " 9   CPI           7605 non-null   float64\n",
            " 10  Unemployment  7605 non-null   float64\n",
            " 11  IsHoliday     8190 non-null   bool   \n",
            " 12  Type          8190 non-null   object \n",
            " 13  Size          8190 non-null   int64  \n",
            "dtypes: bool(1), float64(9), int64(2), object(2)\n",
            "memory usage: 903.8+ KB\n"
          ]
        }
      ],
      "source": [
        "dataset_fs.info()"
      ]
    },
    {
      "cell_type": "code",
      "execution_count": null,
      "id": "e0189b00",
      "metadata": {
        "id": "e0189b00"
      },
      "outputs": [],
      "source": [
        "# here changing the data type of 'Date' col from object to proper date so that we can get better info\n",
        "\n",
        "from datetime import datetime\n",
        "dataset_fs['Date'] = pd.to_datetime(dataset_fs['Date'])\n",
        "train_df['Date'] = pd.to_datetime(train_df['Date'])"
      ]
    },
    {
      "cell_type": "code",
      "execution_count": null,
      "id": "fdb5d58f",
      "metadata": {
        "id": "fdb5d58f"
      },
      "outputs": [],
      "source": [
        "# merging the datasets into one big dataset \n",
        "\n",
        "df = train_df.merge(dataset_fs, how='inner',on = ['Store','Date','IsHoliday'])"
      ]
    },
    {
      "cell_type": "code",
      "execution_count": null,
      "id": "c4c0009f",
      "metadata": {
        "colab": {
          "base_uri": "https://localhost:8080/"
        },
        "id": "c4c0009f",
        "outputId": "abaffad9-fbf9-4373-dff5-73aa5ad6052f"
      },
      "outputs": [
        {
          "output_type": "execute_result",
          "data": {
            "text/plain": [
              "(421570, 5)"
            ]
          },
          "metadata": {},
          "execution_count": 52
        }
      ],
      "source": [
        "train_df.shape"
      ]
    },
    {
      "cell_type": "code",
      "source": [
        "df.shape"
      ],
      "metadata": {
        "colab": {
          "base_uri": "https://localhost:8080/"
        },
        "id": "OetnL3fqFOM2",
        "outputId": "41f991c4-ca3c-4b68-a980-5400202d8d3a"
      },
      "id": "OetnL3fqFOM2",
      "execution_count": null,
      "outputs": [
        {
          "output_type": "execute_result",
          "data": {
            "text/plain": [
              "(421570, 16)"
            ]
          },
          "metadata": {},
          "execution_count": 53
        }
      ]
    },
    {
      "cell_type": "code",
      "execution_count": null,
      "id": "4ed5ec47",
      "metadata": {
        "id": "4ed5ec47"
      },
      "outputs": [],
      "source": [
        "#5. making new columns which can help give us more info\n",
        "\n",
        "df['Week'] = df.Date.dt.isocalendar().week\n",
        "df['Year'] = df.Date.dt.isocalendar().year"
      ]
    },
    {
      "cell_type": "code",
      "execution_count": null,
      "id": "f7dc8e4f",
      "metadata": {
        "colab": {
          "base_uri": "https://localhost:8080/"
        },
        "id": "f7dc8e4f",
        "outputId": "ba918c51-7d78-47c3-fafc-36b8aba5fe18"
      },
      "outputs": [
        {
          "output_type": "execute_result",
          "data": {
            "text/plain": [
              "(421570, 18)"
            ]
          },
          "metadata": {},
          "execution_count": 55
        }
      ],
      "source": [
        "df.shape"
      ]
    },
    {
      "cell_type": "code",
      "source": [
        "#6. make neccessary functions which can be needed frequently\n",
        "\n",
        "def scatter_func(dataframe,col1,col2):\n",
        "    plt.figure(figsize=(12,8))\n",
        "    plt.scatter(dataframe[col1],dataframe[col2])\n",
        "    plt.xlabel(col1)\n",
        "    plt.ylabel(col2)"
      ],
      "metadata": {
        "id": "ypwx4OLVGkSG"
      },
      "id": "ypwx4OLVGkSG",
      "execution_count": null,
      "outputs": []
    },
    {
      "cell_type": "code",
      "source": [
        "df.Year.value_counts()"
      ],
      "metadata": {
        "colab": {
          "base_uri": "https://localhost:8080/"
        },
        "id": "YGejcCl_I3GG",
        "outputId": "047d1ff5-9dad-44e5-80d6-df08cb175367"
      },
      "id": "YGejcCl_I3GG",
      "execution_count": null,
      "outputs": [
        {
          "output_type": "execute_result",
          "data": {
            "text/plain": [
              "2011    153453\n",
              "2010    140679\n",
              "2012    127438\n",
              "Name: Year, dtype: Int64"
            ]
          },
          "metadata": {},
          "execution_count": 56
        }
      ]
    },
    {
      "cell_type": "code",
      "source": [
        "weekly_sales_2010=df[df['Year']==2010].groupby(['Week'])['Weekly_Sales'].mean()"
      ],
      "metadata": {
        "id": "cv8YYz-TI-GH"
      },
      "id": "cv8YYz-TI-GH",
      "execution_count": null,
      "outputs": []
    },
    {
      "cell_type": "code",
      "source": [
        "sns.lineplot(weekly_sales_2010.index,weekly_sales_2010.values,color='red')"
      ],
      "metadata": {
        "id": "brq-aqjLJqr2"
      },
      "id": "brq-aqjLJqr2",
      "execution_count": null,
      "outputs": []
    },
    {
      "cell_type": "code",
      "source": [
        "weekly_sales_2011=df[df['Year']==2011].groupby(['Week'])['Weekly_Sales'].mean()"
      ],
      "metadata": {
        "id": "GmbShZ4AKYYT"
      },
      "id": "GmbShZ4AKYYT",
      "execution_count": null,
      "outputs": []
    },
    {
      "cell_type": "code",
      "source": [
        "sns.lineplot(weekly_sales_2011.index,weekly_sales_2011.values,color='blue')"
      ],
      "metadata": {
        "id": "fByikbO5KZkH"
      },
      "id": "fByikbO5KZkH",
      "execution_count": null,
      "outputs": []
    },
    {
      "cell_type": "code",
      "source": [
        "weekly_sales_2012=df[df['Year']==2012].groupby(['Week'])['Weekly_Sales'].mean()"
      ],
      "metadata": {
        "id": "Gbb3A3p9KgCR"
      },
      "id": "Gbb3A3p9KgCR",
      "execution_count": null,
      "outputs": []
    },
    {
      "cell_type": "code",
      "source": [
        "sns.lineplot(weekly_sales_2012.index,weekly_sales_2012.values,color='green')"
      ],
      "metadata": {
        "id": "bQ8rQhoMKfBC"
      },
      "id": "bQ8rQhoMKfBC",
      "execution_count": null,
      "outputs": []
    },
    {
      "cell_type": "code",
      "source": [
        "plt.figure(figsize=(20,12))\n",
        "sns.lineplot(weekly_sales_2010.index,weekly_sales_2010.values,color='red')\n",
        "sns.lineplot(weekly_sales_2011.index,weekly_sales_2011.values,color='blue')\n",
        "sns.lineplot(weekly_sales_2012.index,weekly_sales_2012.values,color='green')\n",
        "plt.grid()\n",
        "plt.title('Average Weekly Sales per Year',fontsize=30)\n",
        "plt.ylabel('Sales',fontsize=20)\n",
        "plt.xlabel('Weeks',fontsize=20)\n",
        "plt.xticks(np.arange(1,60,step=1))\n",
        "plt.legend(['2010','2011','2012'])"
      ],
      "metadata": {
        "id": "lAd77_tyhm8c"
      },
      "id": "lAd77_tyhm8c",
      "execution_count": null,
      "outputs": []
    },
    {
      "cell_type": "code",
      "source": [
        "sns.distplot(df['Weekly_Sales'])"
      ],
      "metadata": {
        "id": "H4KaZ2J8KzAq"
      },
      "id": "H4KaZ2J8KzAq",
      "execution_count": null,
      "outputs": []
    },
    {
      "cell_type": "code",
      "source": [
        "sns.boxplot(x='Type',y='Size',df)"
      ],
      "metadata": {
        "id": "TX2hhaFzLBd4"
      },
      "id": "TX2hhaFzLBd4",
      "execution_count": null,
      "outputs": []
    },
    {
      "cell_type": "code",
      "source": [
        "weekly_sales_store=df.groupby(['Store'])['Weekly_Sales'].mean()"
      ],
      "metadata": {
        "id": "AjiU7qWNjyLs"
      },
      "id": "AjiU7qWNjyLs",
      "execution_count": null,
      "outputs": []
    },
    {
      "cell_type": "code",
      "source": [
        "weekly_sales_store.sort_values(ascending=False)\n",
        "\n",
        "#or\n",
        "\n",
        "pd.DataFrame(weekly_sales_store).sort_values(by='Weekly_Sales', ascending=False).style.bar()"
      ],
      "metadata": {
        "id": "BXNyf16fj-0M"
      },
      "id": "BXNyf16fj-0M",
      "execution_count": null,
      "outputs": []
    },
    {
      "cell_type": "code",
      "source": [
        "len(df.Store.unique())"
      ],
      "metadata": {
        "id": "cgVTxbYlk7qz"
      },
      "id": "cgVTxbYlk7qz",
      "execution_count": null,
      "outputs": []
    },
    {
      "cell_type": "code",
      "source": [
        "plt.figure(figsize=(20,12))\n",
        "sns.barplot(weekly_sales_2010.index,weekly_sales_2010.values,palette='dark')\n",
        "plt.grid()\n",
        "plt.title('Average Weekly Sales per Year',fontsize=30)\n",
        "plt.ylabel('Sales',fontsize=20)\n",
        "plt.xlabel('Stores',fontsize=20)\n",
        "plt.xticks(np.arange(1,60,step=1))\n",
        "plt.legend(['2010','2011','2012'])"
      ],
      "metadata": {
        "id": "SIJ9FkRQlOkC"
      },
      "id": "SIJ9FkRQlOkC",
      "execution_count": null,
      "outputs": []
    },
    {
      "cell_type": "code",
      "source": [
        "weekly_sales_dept=df.groupby(['Dept'])['Weekly_Sales'].mean()\n",
        "\n",
        "plt.figure(figsize=(20,12))\n",
        "sns.barplot(weekly_sales_dept.index,weekly_sales_dept.values,palette='dark')\n",
        "plt.grid()\n",
        "plt.title('Average Weekly Sales per Dept',fontsize=30)\n",
        "plt.ylabel('Sales',fontsize=20)\n",
        "plt.xlabel('Dept',fontsize=20)"
      ],
      "metadata": {
        "id": "N8i1mVM2l750"
      },
      "id": "N8i1mVM2l750",
      "execution_count": null,
      "outputs": []
    },
    {
      "cell_type": "code",
      "source": [
        "weekly_sales_dept.sort_values(ascending=False)"
      ],
      "metadata": {
        "id": "oH7P8bJpsuXQ"
      },
      "id": "oH7P8bJpsuXQ",
      "execution_count": null,
      "outputs": []
    },
    {
      "cell_type": "code",
      "source": [
        "plt.figure(figsize=(20,8))\n",
        "sns.heatmap(df.corr(),cmap='viridis',linewidth=2,linecolor='black',annot=True)\n",
        "#sns.heatmap(df.corr(),cmap='coolwarm',linewidth=2,linecolor='black',annot=True)\n",
        "#sns.heatmap(df.corr(),vmin=0.5,center=None,cmap='greens',linewidth=2,linecolor='black',annot=True)\n",
        "plt.xticks(fontsize=20)\n",
        "plt.yticks(fontsize=20)"
      ],
      "metadata": {
        "id": "VTIDM665tbxu"
      },
      "id": "VTIDM665tbxu",
      "execution_count": null,
      "outputs": []
    },
    {
      "cell_type": "code",
      "source": [
        "df[df['Store'].isin([20,4,14,13,2])]['Type'].value_counts()"
      ],
      "metadata": {
        "id": "zDJJk8UnwZyh"
      },
      "id": "zDJJk8UnwZyh",
      "execution_count": null,
      "outputs": []
    },
    {
      "cell_type": "code",
      "source": [
        "df[df['Store'].isin([33,5,44,3,38])]['Type'].value_counts()"
      ],
      "metadata": {
        "id": "v7YAG8rTwwWf"
      },
      "id": "v7YAG8rTwwWf",
      "execution_count": null,
      "outputs": []
    },
    {
      "cell_type": "code",
      "source": [
        "a=df.groupby(['Type'])['Weekly_Sales'].mean()\n",
        "sns.barplot(a.index,a.values)"
      ],
      "metadata": {
        "id": "k29LQQ6zw2Z0"
      },
      "id": "k29LQQ6zw2Z0",
      "execution_count": null,
      "outputs": []
    }
  ],
  "metadata": {
    "kernelspec": {
      "display_name": "Python 3 (ipykernel)",
      "language": "python",
      "name": "python3"
    },
    "language_info": {
      "codemirror_mode": {
        "name": "ipython",
        "version": 3
      },
      "file_extension": ".py",
      "mimetype": "text/x-python",
      "name": "python",
      "nbconvert_exporter": "python",
      "pygments_lexer": "ipython3",
      "version": "3.9.12"
    },
    "colab": {
      "provenance": [],
      "collapsed_sections": []
    }
  },
  "nbformat": 4,
  "nbformat_minor": 5
}